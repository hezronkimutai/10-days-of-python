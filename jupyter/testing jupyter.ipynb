{
 "cells": [
  {
   "cell_type": "code",
   "execution_count": 1,
   "metadata": {},
   "outputs": [
    {
     "name": "stdout",
     "output_type": "stream",
     "text": [
      "hello worlf\n"
     ]
    }
   ],
   "source": [
    "print ('hello worlf')"
   ]
  },
  {
   "cell_type": "code",
   "execution_count": 9,
   "metadata": {},
   "outputs": [
    {
     "name": "stdout",
     "output_type": "stream",
     "text": [
      "hello\n"
     ]
    }
   ],
   "source": [
    "print('hello')"
   ]
  },
  {
   "cell_type": "markdown",
   "metadata": {},
   "source": [
    "# sample\n"
   ]
  },
  {
   "cell_type": "code",
   "execution_count": 10,
   "metadata": {},
   "outputs": [
    {
     "name": "stdout",
     "output_type": "stream",
     "text": [
      "Package                Version      \n",
      "---------------------- -------------\n",
      "alembic                1.0.5        \n",
      "aniso8601              4.1.0        \n",
      "appdirs                1.4.3        \n",
      "apturl                 0.5.2        \n",
      "argcomplete            1.8.1        \n",
      "asn1crypto             0.24.0       \n",
      "astroid                2.1.0        \n",
      "atomicwrites           1.3.0        \n",
      "attrs                  18.2.0       \n",
      "autoenv                1.0.0        \n",
      "Babel                  2.5.1        \n",
      "backcall               0.1.0        \n",
      "bandit                 1.5.1        \n",
      "beautifulsoup4         4.7.1        \n",
      "black                  18.9b0       \n",
      "bleach                 3.1.0        \n",
      "blinker                1.4          \n",
      "Brlapi                 0.6.6        \n",
      "certifi                2019.3.9     \n",
      "chardet                3.0.4        \n",
      "Click                  7.0          \n",
      "colorama               0.3.7        \n",
      "command-not-found      0.3          \n",
      "coverage               4.5.2        \n",
      "coveralls              1.5.1        \n",
      "cryptography           2.1.4        \n",
      "cupshelpers            1.0          \n",
      "Cython                 0.29.5       \n",
      "decorator              4.4.0        \n",
      "defer                  1.0.6        \n",
      "defusedxml             0.5.0        \n",
      "distro-info            0.18         \n",
      "docopt                 0.6.2        \n",
      "dominate               2.3.1        \n",
      "elasticsearch          6.1.1        \n",
      "entrypoints            0.3          \n",
      "ez-setup               0.9          \n",
      "Flask                  1.0.2        \n",
      "Flask-API              1.1          \n",
      "Flask-Babel            0.11.2       \n",
      "Flask-Bootstrap        3.3.7.1      \n",
      "Flask-Cors             3.0.7        \n",
      "Flask-HTTPAuth         3.2.3        \n",
      "Flask-JWT-Extended     3.17.0       \n",
      "Flask-Login            0.4.0        \n",
      "Flask-Mail             0.9.1        \n",
      "Flask-Migrate          2.1.1        \n",
      "Flask-Moment           0.5.2        \n",
      "Flask-MySQLdb          0.2.0        \n",
      "Flask-RESTful          0.3.7        \n",
      "Flask-Script           2.0.6        \n",
      "Flask-SQLAlchemy       2.3.2        \n",
      "Flask-WTF              0.14.2       \n",
      "future                 0.17.1       \n",
      "gitdb2                 2.0.5        \n",
      "GitPython              2.1.11       \n",
      "guess-language-spirit  0.5.3        \n",
      "gunicorn               19.9.0       \n",
      "html5lib               0.999999999  \n",
      "httplib2               0.9.2        \n",
      "idna                   2.8          \n",
      "ipykernel              5.1.0        \n",
      "ipython                7.3.0        \n",
      "ipython-genutils       0.2.0        \n",
      "ipywidgets             7.4.2        \n",
      "isort                  4.3.4        \n",
      "itsdangerous           1.1.0        \n",
      "jedi                   0.13.3       \n",
      "Jinja2                 2.10         \n",
      "jsonschema             3.0.1        \n",
      "jupyter                1.0.0        \n",
      "jupyter-client         5.2.4        \n",
      "jupyter-console        6.0.0        \n",
      "jupyter-core           4.4.0        \n",
      "keyring                10.6.0       \n",
      "keyrings.alt           3.0          \n",
      "language-selector      0.1          \n",
      "launchpadlib           1.10.6       \n",
      "lazr.restfulclient     0.13.5       \n",
      "lazr.uri               1.0.3        \n",
      "lazy-object-proxy      1.3.1        \n",
      "louis                  3.5.0        \n",
      "lxml                   4.2.1        \n",
      "macaroonbakery         1.1.3        \n",
      "Mako                   1.0.7        \n",
      "MarkupSafe             1.1.1        \n",
      "marshmallow            3.0.0rc2     \n",
      "mccabe                 0.6.1        \n",
      "mistune                0.8.4        \n",
      "more-itertools         5.0.0        \n",
      "mysql-connector-python 8.0.13       \n",
      "mysqlclient            1.3.14       \n",
      "nbconvert              5.4.1        \n",
      "nbformat               4.4.0        \n",
      "netifaces              0.10.4       \n",
      "nose                   1.3.7        \n",
      "notebook               5.7.6        \n",
      "numpy                  1.13.3       \n",
      "oauth                  1.0.1        \n",
      "olefile                0.45.1       \n",
      "packaging              16.8         \n",
      "pandocfilters          1.4.2        \n",
      "parso                  0.3.4        \n",
      "passlib                1.7.1        \n",
      "pbr                    5.1.2        \n",
      "pep8                   1.7.1        \n",
      "pexpect                4.2.1        \n",
      "pickleshare            0.7.5        \n",
      "Pillow                 5.1.0        \n",
      "pip                    19.0.3       \n",
      "pip-autoremove         0.9.1        \n",
      "pluggy                 0.8.1        \n",
      "progressbar            2.3          \n",
      "progressbar33          2.4          \n",
      "prometheus-client      0.6.0        \n",
      "prompt-toolkit         2.0.9        \n",
      "protobuf               3.6.1        \n",
      "psycopg2               2.7.7        \n",
      "ptyprocess             0.6.0        \n",
      "py                     1.7.0        \n",
      "pycairo                1.16.2       \n",
      "pycodestyle            2.3.1        \n",
      "pycrypto               2.6.1        \n",
      "pycups                 1.9.73       \n",
      "Pygments               2.3.1        \n",
      "pygobject              3.26.1       \n",
      "pyinotify              0.9.6        \n",
      "PyJWT                  1.7.1        \n",
      "pylint                 2.2.2        \n",
      "pymacaroons            0.13.0       \n",
      "PyNaCl                 1.1.2        \n",
      "pyOpenSSL              17.5.0       \n",
      "pyparsing              2.2.0        \n",
      "pyRFC3339              1.0          \n",
      "pyrsistent             0.14.11      \n",
      "pytest                 4.2.0        \n",
      "pytest-cov             2.6.1        \n",
      "python-apt             1.6.3+ubuntu1\n",
      "python-dateutil        2.7.5        \n",
      "python-debian          0.1.32       \n",
      "python-dotenv          0.10.1       \n",
      "python-editor          1.0.3        \n",
      "python-gnupg           0.4.1        \n",
      "pytz                   2018.9       \n",
      "pyxdg                  0.25         \n",
      "PyYAML                 3.13         \n",
      "pyzmq                  18.0.1       \n",
      "qtconsole              4.4.3        \n",
      "redis                  2.10.6       \n",
      "reportlab              3.4.0        \n",
      "requests               2.21.0       \n",
      "requests-unixsocket    0.1.5        \n",
      "retrying               1.3.3        \n",
      "rq                     0.9.2        \n",
      "SecretStorage          2.3.1        \n",
      "Send2Trash             1.5.0        \n",
      "setuptools             40.8.0       \n",
      "simplejson             3.13.2       \n",
      "six                    1.12.0       \n",
      "smmap2                 2.0.5        \n",
      "soupsieve              1.8          \n",
      "SQLAlchemy             1.2.16       \n",
      "ssh-import-id          5.7          \n",
      "stevedore              1.30.0       \n",
      "system-service         0.3          \n",
      "systemd-python         234          \n",
      "terminado              0.8.1        \n",
      "testpath               0.4.2        \n",
      "toml                   0.10.0       \n",
      "tornado                6.0.1        \n",
      "traitlets              4.3.2        \n",
      "typed-ast              1.3.1        \n",
      "ubuntu-drivers-common  0.0.0        \n",
      "Ubuntu-Make            16.11.1      \n",
      "ufw                    0.35         \n",
      "unattended-upgrades    0.1          \n",
      "urllib3                1.24.1       \n",
      "usb-creator            0.3.3        \n",
      "virtualenv             15.1.0       \n",
      "visitor                0.1.3        \n",
      "wadllib                1.3.2        \n",
      "wcwidth                0.1.7        \n",
      "webencodings           0.5          \n",
      "Werkzeug               0.14.1       \n",
      "wheel                  0.30.0       \n",
      "widgetsnbextension     3.4.2        \n",
      "wikipedia              1.4.0        \n",
      "wrapt                  1.11.1       \n",
      "WTForms                2.2.1        \n",
      "xkit                   0.0.0        \n",
      "zope.interface         4.3.2        \n",
      "^C\n",
      "Traceback (most recent call last):\n",
      "  File \"/usr/local/lib/python3.6/dist-packages/pip/_vendor/lockfile/mkdirlockfile.py\", line 40, in acquire\n",
      "    os.mkdir(self.lock_file)\n",
      "FileExistsError: [Errno 17] File exists: '/home/hezron/.cache/pip/http/a/1/9/5/3/a19537d3cf37c122db841d6fe4cd322bc10d1a558bb00d146b85cb9a.lock'\n",
      "\n",
      "During handling of the above exception, another exception occurred:\n",
      "\n",
      "Traceback (most recent call last):\n",
      "  File \"/usr/local/bin/pip\", line 11, in <module>\n",
      "    sys.exit(main())\n",
      "  File \"/usr/local/lib/python3.6/dist-packages/pip/_internal/__init__.py\", line 78, in main\n",
      "    return command.main(cmd_args)\n",
      "  File \"/usr/local/lib/python3.6/dist-packages/pip/_internal/cli/base_command.py\", line 231, in main\n",
      "    pip_version_check(session, options)\n",
      "  File \"/usr/local/lib/python3.6/dist-packages/pip/_internal/utils/outdated.py\", line 132, in pip_version_check\n",
      "    all_candidates = finder.find_all_candidates(\"pip\")\n",
      "  File \"/usr/local/lib/python3.6/dist-packages/pip/_internal/index.py\", line 610, in find_all_candidates\n",
      "    for page in self._get_pages(url_locations, project_name):\n",
      "  File \"/usr/local/lib/python3.6/dist-packages/pip/_internal/index.py\", line 743, in _get_pages\n",
      "    page = _get_html_page(location, session=self.session)\n",
      "  File \"/usr/local/lib/python3.6/dist-packages/pip/_internal/index.py\", line 229, in _get_html_page\n",
      "    resp = _get_html_response(url, session=session)\n",
      "  File \"/usr/local/lib/python3.6/dist-packages/pip/_internal/index.py\", line 177, in _get_html_response\n",
      "    \"Cache-Control\": \"max-age=0\",\n",
      "  File \"/usr/local/lib/python3.6/dist-packages/pip/_vendor/requests/sessions.py\", line 546, in get\n",
      "    return self.request('GET', url, **kwargs)\n",
      "  File \"/usr/local/lib/python3.6/dist-packages/pip/_internal/download.py\", line 403, in request\n",
      "    return super(PipSession, self).request(method, url, *args, **kwargs)\n",
      "  File \"/usr/local/lib/python3.6/dist-packages/pip/_vendor/requests/sessions.py\", line 533, in request\n",
      "    resp = self.send(prep, **send_kwargs)\n",
      "  File \"/usr/local/lib/python3.6/dist-packages/pip/_vendor/requests/sessions.py\", line 686, in send\n",
      "    r.content\n",
      "  File \"/usr/local/lib/python3.6/dist-packages/pip/_vendor/requests/models.py\", line 828, in content\n",
      "    self._content = b''.join(self.iter_content(CONTENT_CHUNK_SIZE)) or b''\n",
      "  File \"/usr/local/lib/python3.6/dist-packages/pip/_vendor/requests/models.py\", line 750, in generate\n",
      "    for chunk in self.raw.stream(chunk_size, decode_content=True):\n",
      "  File \"/usr/local/lib/python3.6/dist-packages/pip/_vendor/urllib3/response.py\", line 494, in stream\n",
      "    data = self.read(amt=amt, decode_content=decode_content)\n",
      "  File \"/usr/local/lib/python3.6/dist-packages/pip/_vendor/urllib3/response.py\", line 442, in read\n",
      "    data = self._fp.read(amt)\n",
      "  File \"/usr/local/lib/python3.6/dist-packages/pip/_vendor/cachecontrol/filewrapper.py\", line 65, in read\n",
      "    self._close()\n",
      "  File \"/usr/local/lib/python3.6/dist-packages/pip/_vendor/cachecontrol/filewrapper.py\", line 52, in _close\n",
      "    self.__callback(self.__buf.getvalue())\n",
      "  File \"/usr/local/lib/python3.6/dist-packages/pip/_vendor/cachecontrol/controller.py\", line 300, in cache_response\n",
      "    cache_url, self.serializer.dumps(request, response, body=body)\n",
      "  File \"/usr/local/lib/python3.6/dist-packages/pip/_internal/download.py\", line 304, in set\n",
      "    return super(SafeFileCache, self).set(*args, **kwargs)\n",
      "  File \"/usr/local/lib/python3.6/dist-packages/pip/_vendor/cachecontrol/caches/file_cache.py\", line 126, in set\n",
      "    with self.lock_class(name) as lock:\n",
      "  File \"/usr/local/lib/python3.6/dist-packages/pip/_vendor/lockfile/__init__.py\", line 197, in __enter__\n",
      "    self.acquire()\n",
      "  File \"/usr/local/lib/python3.6/dist-packages/pip/_vendor/lockfile/mkdirlockfile.py\", line 57, in acquire\n",
      "    time.sleep(wait)\n",
      "KeyboardInterrupt\n"
     ]
    }
   ],
   "source": [
    "!pip list\n"
   ]
  },
  {
   "cell_type": "code",
   "execution_count": null,
   "metadata": {},
   "outputs": [],
   "source": [
    "import numpy as np\n",
    "import matplotlib.pyplot as plt\n",
    "import matplotlib.animation as animation\n",
    "\n",
    "\n",
    "def data_gen(t=0):\n",
    "    cnt = 0\n",
    "    while cnt < 1000:\n",
    "        cnt += 1\n",
    "        t += 0.1\n",
    "        yield t, np.sin(2*np.pi*t) * np.exp(-t/10.)\n",
    "\n",
    "\n",
    "def init():\n",
    "    ax.set_ylim(-1.1, 1.1)\n",
    "    ax.set_xlim(0, 10)\n",
    "    del xdata[:]\n",
    "    del ydata[:]\n",
    "    line.set_data(xdata, ydata)\n",
    "    return line,\n",
    "\n",
    "fig, ax = plt.subplots()\n",
    "line, = ax.plot([], [], lw=2)\n",
    "ax.grid()\n",
    "xdata, ydata = [], []\n",
    "\n",
    "\n",
    "def run(data):\n",
    "    # update the data\n",
    "    t, y = data\n",
    "    xdata.append(t)\n",
    "    ydata.append(y)\n",
    "    xmin, xmax = ax.get_xlim()\n",
    "\n",
    "    if t >= xmax:\n",
    "        ax.set_xlim(xmin, 2*xmax)\n",
    "        ax.figure.canvas.draw()\n",
    "    line.set_data(xdata, ydata)\n",
    "\n",
    "    return line,\n",
    "\n",
    "ani = animation.FuncAnimation(fig, run, data_gen, blit=False, interval=10,\n",
    "                              repeat=False, init_func=init)\n",
    "plt.show()"
   ]
  },
  {
   "cell_type": "code",
   "execution_count": null,
   "metadata": {},
   "outputs": [],
   "source": [
    "%cd ..\n"
   ]
  },
  {
   "cell_type": "code",
   "execution_count": 13,
   "metadata": {},
   "outputs": [
    {
     "name": "stdout",
     "output_type": "stream",
     "text": [
      "'testing jupyter.ipynb'   \u001b[0m\u001b[01;34mvenv\u001b[0m/\r\n"
     ]
    }
   ],
   "source": [
    "%ls"
   ]
  },
  {
   "cell_type": "code",
   "execution_count": 14,
   "metadata": {},
   "outputs": [
    {
     "name": "stdout",
     "output_type": "stream",
     "text": [
      "'testing jupyter.ipynb'   venv\r\n"
     ]
    }
   ],
   "source": [
    "!ls"
   ]
  },
  {
   "cell_type": "code",
   "execution_count": null,
   "metadata": {},
   "outputs": [],
   "source": []
  },
  {
   "cell_type": "code",
   "execution_count": null,
   "metadata": {},
   "outputs": [],
   "source": []
  },
  {
   "cell_type": "code",
   "execution_count": null,
   "metadata": {},
   "outputs": [],
   "source": []
  },
  {
   "cell_type": "code",
   "execution_count": null,
   "metadata": {},
   "outputs": [],
   "source": []
  },
  {
   "cell_type": "code",
   "execution_count": null,
   "metadata": {},
   "outputs": [],
   "source": [
    "import numpy as np\n",
    "import matplotlib.pyplot as plt\n",
    "import matplotlib.animation as animation\n",
    "\n",
    "\n",
    "def data_gen(t=0):\n",
    "    cnt = 0\n",
    "    while cnt < 1000:\n",
    "        cnt += 1\n",
    "        t += 0.1\n",
    "        yield t, np.sin(2*np.pi*t) * np.exp(-t/10.)\n",
    "\n",
    "\n",
    "def init():\n",
    "    ax.set_ylim(-1.1, 1.1)\n",
    "    ax.set_xlim(0, 10)\n",
    "    del xdata[:]\n",
    "    del ydata[:]\n",
    "    line.set_data(xdata, ydata)\n",
    "    return line,\n",
    "\n",
    "fig, ax = plt.subplots()\n",
    "line, = ax.plot([], [], lw=2)\n",
    "ax.grid()\n",
    "xdata, ydata = [], []\n",
    "\n",
    "\n",
    "def run(data):\n",
    "    # update the data\n",
    "    t, y = data\n",
    "    xdata.append(t)\n",
    "    ydata.append(y)\n",
    "    xmin, xmax = ax.get_xlim()\n",
    "\n",
    "    if t >= xmax:\n",
    "        ax.set_xlim(xmin, 2*xmax)\n",
    "        ax.figure.canvas.draw()\n",
    "    line.set_data(xdata, ydata)\n",
    "\n",
    "    return line,\n",
    "\n",
    "ani = animation.FuncAnimation(fig, run, data_gen, blit=False, interval=10,\n",
    "                              repeat=False, init_func=init)\n",
    "plt.show()"
   ]
  },
  {
   "cell_type": "code",
   "execution_count": 16,
   "metadata": {},
   "outputs": [
    {
     "name": "stdout",
     "output_type": "stream",
     "text": [
      "/bin/sh: 1: matplotlib: not found\r\n"
     ]
    }
   ],
   "source": [
    "!matplotlib inline"
   ]
  },
  {
   "cell_type": "code",
   "execution_count": 17,
   "metadata": {},
   "outputs": [
    {
     "name": "stdout",
     "output_type": "stream",
     "text": [
      "'testing jupyter.ipynb'   \u001b[0m\u001b[01;34mvenv\u001b[0m/\r\n"
     ]
    }
   ],
   "source": [
    "%ls"
   ]
  },
  {
   "cell_type": "code",
   "execution_count": 18,
   "metadata": {},
   "outputs": [
    {
     "name": "stdout",
     "output_type": "stream",
     "text": [
      "/bin/sh: 1: source: not found\r\n"
     ]
    }
   ],
   "source": [
    "!source venv/bin/activate\n"
   ]
  },
  {
   "cell_type": "code",
   "execution_count": null,
   "metadata": {},
   "outputs": [],
   "source": []
  }
 ],
 "metadata": {
  "kernelspec": {
   "display_name": "Python 3",
   "language": "python",
   "name": "python3"
  },
  "language_info": {
   "codemirror_mode": {
    "name": "ipython",
    "version": 3
   },
   "file_extension": ".py",
   "mimetype": "text/x-python",
   "name": "python",
   "nbconvert_exporter": "python",
   "pygments_lexer": "ipython3",
   "version": "3.6.7"
  }
 },
 "nbformat": 4,
 "nbformat_minor": 2
}
