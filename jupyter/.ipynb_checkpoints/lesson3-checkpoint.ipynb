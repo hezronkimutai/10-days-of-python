{
 "cells": [
  {
   "cell_type": "code",
   "execution_count": 4,
   "metadata": {},
   "outputs": [],
   "source": [
    "import json\n",
    "import calendar\n",
    "import random\n",
    "from datetime import date, timedelta\n",
    "import faker\n",
    "import numpy as np\n",
    "from pandas import DataFrame\n",
    "from delorean import parse\n",
    "import pandas as pd\n",
    "# pd.set_option('display.mpl_style', 'default')"
   ]
  },
  {
   "cell_type": "code",
   "execution_count": 5,
   "metadata": {},
   "outputs": [],
   "source": [
    "fake = faker.Faker()"
   ]
  },
  {
   "cell_type": "code",
   "execution_count": 6,
   "metadata": {},
   "outputs": [],
   "source": [
    "usernames = set()\n",
    "usernames_no = 1000\n",
    "# populate the set with 1000 unique usernames\n",
    "while len(usernames) < usernames_no:\n",
    "    usernames.add(fake.user_name())"
   ]
  },
  {
   "cell_type": "code",
   "execution_count": 7,
   "metadata": {},
   "outputs": [
    {
     "data": {
      "text/plain": [
       "['{\"username\": \"patty27\", \"name\": \"Wendy Martinez\", \"gender\": \"F\", \"email\": \"michele62@salas.com\", \"age\": 27, \"address\": \"718 Jacqueline Mount Suite 642\\\\nGreenmouth, AR 47518\"}']"
      ]
     },
     "execution_count": 7,
     "metadata": {},
     "output_type": "execute_result"
    }
   ],
   "source": [
    "def get_random_name_and_gender():\n",
    "    skew = .6 # 60% of users will be female\n",
    "    male = random.random() > skew\n",
    "    if male:\n",
    "        return fake.name_male(), 'M'\n",
    "    else:\n",
    "        return fake.name_female(), 'F'\n",
    "def get_users(usernames):\n",
    "    users = []\n",
    "    for username in usernames:\n",
    "        name, gender = get_random_name_and_gender()\n",
    "        user = {\n",
    "        'username': username,\n",
    "        'name': name,\n",
    "        'gender': gender,\n",
    "        'email': fake.email(),\n",
    "        'age': fake.random_int(min=18, max=90),\n",
    "        'address': fake.address(),\n",
    "        }\n",
    "        users.append(json.dumps(user))\n",
    "        return users\n",
    "users = get_users(usernames)\n",
    "users[:3]"
   ]
  },
  {
   "cell_type": "code",
   "execution_count": 8,
   "metadata": {},
   "outputs": [],
   "source": [
    "def get_type():\n",
    "    # just some gibberish internal codes\n",
    "    types = ['AKX', 'BYU', 'GRZ', 'KTR']\n",
    "    return random.choice(types)\n",
    "def get_start_end_dates():\n",
    "    duration = random.randint(1, 2 * 365)\n",
    "    offset = random.randint(-365, 365)\n",
    "    start = date.today() - timedelta(days=offset)\n",
    "    end = start + timedelta(days=duration)\n",
    "    def _format_date(date_):\n",
    "        return date_.strftime(\"%Y%m%d\")\n",
    "    return _format_date(start), _format_date(end)\n",
    "def get_age():\n",
    "    age = random.randint(20, 45)\n",
    "    age -= age % 5\n",
    "    diff = random.randint(5, 25)\n",
    "    diff -= diff % 5\n",
    "    return '{}-{}'.format(age, age + diff)\n",
    "def get_gender():\n",
    "    return random.choice(('M', 'F', 'B'))\n",
    "def get_currency():\n",
    "    return random.choice(('GBP', 'EUR', 'USD'))\n",
    "def get_campaign_name():\n",
    "    separator = '_'\n",
    "    type_ = get_type()\n",
    "    start_end = separator.join(get_start_end_dates())\n",
    "    age = get_age()\n",
    "    gender = get_gender()\n",
    "    currency = get_currency()\n",
    "    return separator.join(\n",
    "(type_, start_end, age, gender, currency))"
   ]
  },
  {
   "cell_type": "code",
   "execution_count": 9,
   "metadata": {},
   "outputs": [],
   "source": [
    "def get_campaign_data():\n",
    "    name = get_campaign_name()\n",
    "    budget = random.randint(10**3, 10**6)\n",
    "    spent = random.randint(10**2, budget)\n",
    "    clicks = int(random.triangular(10**2, 10**5, 0.2 * 10**5))\n",
    "    impressions = int(random.gauss(0.5 * 10**6, 2))\n",
    "    return {\n",
    "        'cmp_name': name,\n",
    "        'cmp_bgt': budget,\n",
    "        'cmp_spent': spent,\n",
    "        'cmp_clicks': clicks,\n",
    "        'cmp_impr': impressions\n",
    "    }"
   ]
  },
  {
   "cell_type": "code",
   "execution_count": 10,
   "metadata": {},
   "outputs": [],
   "source": [
    "def get_data(users):\n",
    "    data = []\n",
    "    for user in users:\n",
    "        campaigns = [get_campaign_data()\n",
    "    for _ in range(random.randint(2, 8))]\n",
    "        data.append({'user': user, 'campaigns': campaigns})\n",
    "    return data"
   ]
  },
  {
   "cell_type": "code",
   "execution_count": 11,
   "metadata": {},
   "outputs": [
    {
     "data": {
      "text/plain": [
       "[{'user': '{\"username\": \"patty27\", \"name\": \"Wendy Martinez\", \"gender\": \"F\", \"email\": \"michele62@salas.com\", \"age\": 27, \"address\": \"718 Jacqueline Mount Suite 642\\\\nGreenmouth, AR 47518\"}',\n",
       "  'campaigns': [{'cmp_name': 'AKX_20180920_20181010_40-50_M_GBP',\n",
       "    'cmp_bgt': 218631,\n",
       "    'cmp_spent': 75668,\n",
       "    'cmp_clicks': 7530,\n",
       "    'cmp_impr': 499996},\n",
       "   {'cmp_name': 'BYU_20180520_20190729_45-60_B_EUR',\n",
       "    'cmp_bgt': 943590,\n",
       "    'cmp_spent': 6181,\n",
       "    'cmp_clicks': 24424,\n",
       "    'cmp_impr': 499998},\n",
       "   {'cmp_name': 'GRZ_20191221_20210401_25-35_B_USD',\n",
       "    'cmp_bgt': 828424,\n",
       "    'cmp_spent': 593648,\n",
       "    'cmp_clicks': 48902,\n",
       "    'cmp_impr': 500000},\n",
       "   {'cmp_name': 'KTR_20180807_20190527_20-25_M_GBP',\n",
       "    'cmp_bgt': 160298,\n",
       "    'cmp_spent': 60681,\n",
       "    'cmp_clicks': 18470,\n",
       "    'cmp_impr': 499999},\n",
       "   {'cmp_name': 'AKX_20180609_20191110_20-35_B_EUR',\n",
       "    'cmp_bgt': 294785,\n",
       "    'cmp_spent': 164129,\n",
       "    'cmp_clicks': 79299,\n",
       "    'cmp_impr': 500000},\n",
       "   {'cmp_name': 'KTR_20190201_20190611_20-40_B_GBP',\n",
       "    'cmp_bgt': 730116,\n",
       "    'cmp_spent': 324325,\n",
       "    'cmp_clicks': 8974,\n",
       "    'cmp_impr': 499997},\n",
       "   {'cmp_name': 'BYU_20190107_20201115_25-45_F_EUR',\n",
       "    'cmp_bgt': 709688,\n",
       "    'cmp_spent': 547201,\n",
       "    'cmp_clicks': 1600,\n",
       "    'cmp_impr': 499997},\n",
       "   {'cmp_name': 'GRZ_20180618_20180721_45-60_B_GBP',\n",
       "    'cmp_bgt': 457653,\n",
       "    'cmp_spent': 284234,\n",
       "    'cmp_clicks': 26163,\n",
       "    'cmp_impr': 499998}]}]"
      ]
     },
     "execution_count": 11,
     "metadata": {},
     "output_type": "execute_result"
    }
   ],
   "source": [
    "rough_data = get_data(users)\n",
    "rough_data[:2] # let's take a peek"
   ]
  },
  {
   "cell_type": "code",
   "execution_count": 14,
   "metadata": {},
   "outputs": [],
   "source": [
    "data = []\n",
    "for datum in rough_data:\n",
    "    for campaign in datum['campaigns']:\n",
    "        campaign.update({'user': datum['user']})\n",
    "        data.append(campaign)"
   ]
  },
  {
   "cell_type": "code",
   "execution_count": 15,
   "metadata": {},
   "outputs": [
    {
     "data": {
      "text/html": [
       "<div>\n",
       "<style scoped>\n",
       "    .dataframe tbody tr th:only-of-type {\n",
       "        vertical-align: middle;\n",
       "    }\n",
       "\n",
       "    .dataframe tbody tr th {\n",
       "        vertical-align: top;\n",
       "    }\n",
       "\n",
       "    .dataframe thead th {\n",
       "        text-align: right;\n",
       "    }\n",
       "</style>\n",
       "<table border=\"1\" class=\"dataframe\">\n",
       "  <thead>\n",
       "    <tr style=\"text-align: right;\">\n",
       "      <th></th>\n",
       "      <th>cmp_bgt</th>\n",
       "      <th>cmp_clicks</th>\n",
       "      <th>cmp_impr</th>\n",
       "      <th>cmp_name</th>\n",
       "      <th>cmp_spent</th>\n",
       "      <th>user</th>\n",
       "    </tr>\n",
       "  </thead>\n",
       "  <tbody>\n",
       "    <tr>\n",
       "      <th>0</th>\n",
       "      <td>218631</td>\n",
       "      <td>7530</td>\n",
       "      <td>499996</td>\n",
       "      <td>AKX_20180920_20181010_40-50_M_GBP</td>\n",
       "      <td>75668</td>\n",
       "      <td>{\"username\": \"patty27\", \"name\": \"Wendy Martine...</td>\n",
       "    </tr>\n",
       "    <tr>\n",
       "      <th>1</th>\n",
       "      <td>943590</td>\n",
       "      <td>24424</td>\n",
       "      <td>499998</td>\n",
       "      <td>BYU_20180520_20190729_45-60_B_EUR</td>\n",
       "      <td>6181</td>\n",
       "      <td>{\"username\": \"patty27\", \"name\": \"Wendy Martine...</td>\n",
       "    </tr>\n",
       "    <tr>\n",
       "      <th>2</th>\n",
       "      <td>828424</td>\n",
       "      <td>48902</td>\n",
       "      <td>500000</td>\n",
       "      <td>GRZ_20191221_20210401_25-35_B_USD</td>\n",
       "      <td>593648</td>\n",
       "      <td>{\"username\": \"patty27\", \"name\": \"Wendy Martine...</td>\n",
       "    </tr>\n",
       "    <tr>\n",
       "      <th>3</th>\n",
       "      <td>160298</td>\n",
       "      <td>18470</td>\n",
       "      <td>499999</td>\n",
       "      <td>KTR_20180807_20190527_20-25_M_GBP</td>\n",
       "      <td>60681</td>\n",
       "      <td>{\"username\": \"patty27\", \"name\": \"Wendy Martine...</td>\n",
       "    </tr>\n",
       "    <tr>\n",
       "      <th>4</th>\n",
       "      <td>294785</td>\n",
       "      <td>79299</td>\n",
       "      <td>500000</td>\n",
       "      <td>AKX_20180609_20191110_20-35_B_EUR</td>\n",
       "      <td>164129</td>\n",
       "      <td>{\"username\": \"patty27\", \"name\": \"Wendy Martine...</td>\n",
       "    </tr>\n",
       "  </tbody>\n",
       "</table>\n",
       "</div>"
      ],
      "text/plain": [
       "   cmp_bgt  cmp_clicks  cmp_impr                           cmp_name  \\\n",
       "0   218631        7530    499996  AKX_20180920_20181010_40-50_M_GBP   \n",
       "1   943590       24424    499998  BYU_20180520_20190729_45-60_B_EUR   \n",
       "2   828424       48902    500000  GRZ_20191221_20210401_25-35_B_USD   \n",
       "3   160298       18470    499999  KTR_20180807_20190527_20-25_M_GBP   \n",
       "4   294785       79299    500000  AKX_20180609_20191110_20-35_B_EUR   \n",
       "\n",
       "   cmp_spent                                               user  \n",
       "0      75668  {\"username\": \"patty27\", \"name\": \"Wendy Martine...  \n",
       "1       6181  {\"username\": \"patty27\", \"name\": \"Wendy Martine...  \n",
       "2     593648  {\"username\": \"patty27\", \"name\": \"Wendy Martine...  \n",
       "3      60681  {\"username\": \"patty27\", \"name\": \"Wendy Martine...  \n",
       "4     164129  {\"username\": \"patty27\", \"name\": \"Wendy Martine...  "
      ]
     },
     "execution_count": 15,
     "metadata": {},
     "output_type": "execute_result"
    }
   ],
   "source": [
    "df = DataFrame(data)\n",
    "df.head()"
   ]
  },
  {
   "cell_type": "code",
   "execution_count": 16,
   "metadata": {},
   "outputs": [
    {
     "data": {
      "text/plain": [
       "cmp_bgt       8\n",
       "cmp_clicks    8\n",
       "cmp_impr      8\n",
       "cmp_name      8\n",
       "cmp_spent     8\n",
       "user          8\n",
       "dtype: int64"
      ]
     },
     "execution_count": 16,
     "metadata": {},
     "output_type": "execute_result"
    }
   ],
   "source": [
    "df.count()"
   ]
  },
  {
   "cell_type": "code",
   "execution_count": 17,
   "metadata": {},
   "outputs": [
    {
     "data": {
      "text/html": [
       "<div>\n",
       "<style scoped>\n",
       "    .dataframe tbody tr th:only-of-type {\n",
       "        vertical-align: middle;\n",
       "    }\n",
       "\n",
       "    .dataframe tbody tr th {\n",
       "        vertical-align: top;\n",
       "    }\n",
       "\n",
       "    .dataframe thead th {\n",
       "        text-align: right;\n",
       "    }\n",
       "</style>\n",
       "<table border=\"1\" class=\"dataframe\">\n",
       "  <thead>\n",
       "    <tr style=\"text-align: right;\">\n",
       "      <th></th>\n",
       "      <th>cmp_bgt</th>\n",
       "      <th>cmp_clicks</th>\n",
       "      <th>cmp_impr</th>\n",
       "      <th>cmp_spent</th>\n",
       "    </tr>\n",
       "  </thead>\n",
       "  <tbody>\n",
       "    <tr>\n",
       "      <th>count</th>\n",
       "      <td>8.000000</td>\n",
       "      <td>8.000000</td>\n",
       "      <td>8.000000</td>\n",
       "      <td>8.000000</td>\n",
       "    </tr>\n",
       "    <tr>\n",
       "      <th>mean</th>\n",
       "      <td>542898.125000</td>\n",
       "      <td>26920.250000</td>\n",
       "      <td>499998.125000</td>\n",
       "      <td>257008.375000</td>\n",
       "    </tr>\n",
       "    <tr>\n",
       "      <th>std</th>\n",
       "      <td>298880.596619</td>\n",
       "      <td>25757.403777</td>\n",
       "      <td>1.457738</td>\n",
       "      <td>222254.834276</td>\n",
       "    </tr>\n",
       "    <tr>\n",
       "      <th>min</th>\n",
       "      <td>160298.000000</td>\n",
       "      <td>1600.000000</td>\n",
       "      <td>499996.000000</td>\n",
       "      <td>6181.000000</td>\n",
       "    </tr>\n",
       "    <tr>\n",
       "      <th>25%</th>\n",
       "      <td>275746.500000</td>\n",
       "      <td>8613.000000</td>\n",
       "      <td>499997.000000</td>\n",
       "      <td>71921.250000</td>\n",
       "    </tr>\n",
       "    <tr>\n",
       "      <th>50%</th>\n",
       "      <td>583670.500000</td>\n",
       "      <td>21447.000000</td>\n",
       "      <td>499998.000000</td>\n",
       "      <td>224181.500000</td>\n",
       "    </tr>\n",
       "    <tr>\n",
       "      <th>75%</th>\n",
       "      <td>754693.000000</td>\n",
       "      <td>31847.750000</td>\n",
       "      <td>499999.250000</td>\n",
       "      <td>380044.000000</td>\n",
       "    </tr>\n",
       "    <tr>\n",
       "      <th>max</th>\n",
       "      <td>943590.000000</td>\n",
       "      <td>79299.000000</td>\n",
       "      <td>500000.000000</td>\n",
       "      <td>593648.000000</td>\n",
       "    </tr>\n",
       "  </tbody>\n",
       "</table>\n",
       "</div>"
      ],
      "text/plain": [
       "             cmp_bgt    cmp_clicks       cmp_impr      cmp_spent\n",
       "count       8.000000      8.000000       8.000000       8.000000\n",
       "mean   542898.125000  26920.250000  499998.125000  257008.375000\n",
       "std    298880.596619  25757.403777       1.457738  222254.834276\n",
       "min    160298.000000   1600.000000  499996.000000    6181.000000\n",
       "25%    275746.500000   8613.000000  499997.000000   71921.250000\n",
       "50%    583670.500000  21447.000000  499998.000000  224181.500000\n",
       "75%    754693.000000  31847.750000  499999.250000  380044.000000\n",
       "max    943590.000000  79299.000000  500000.000000  593648.000000"
      ]
     },
     "execution_count": 17,
     "metadata": {},
     "output_type": "execute_result"
    }
   ],
   "source": [
    "df.describe()"
   ]
  },
  {
   "cell_type": "code",
   "execution_count": 18,
   "metadata": {},
   "outputs": [
    {
     "name": "stderr",
     "output_type": "stream",
     "text": [
      "/usr/local/lib/python3.6/dist-packages/ipykernel_launcher.py:1: FutureWarning: by argument to sort_index is deprecated, please use .sort_values(by=...)\n",
      "  \"\"\"Entry point for launching an IPython kernel.\n"
     ]
    },
    {
     "data": {
      "text/html": [
       "<div>\n",
       "<style scoped>\n",
       "    .dataframe tbody tr th:only-of-type {\n",
       "        vertical-align: middle;\n",
       "    }\n",
       "\n",
       "    .dataframe tbody tr th {\n",
       "        vertical-align: top;\n",
       "    }\n",
       "\n",
       "    .dataframe thead th {\n",
       "        text-align: right;\n",
       "    }\n",
       "</style>\n",
       "<table border=\"1\" class=\"dataframe\">\n",
       "  <thead>\n",
       "    <tr style=\"text-align: right;\">\n",
       "      <th></th>\n",
       "      <th>cmp_bgt</th>\n",
       "      <th>cmp_clicks</th>\n",
       "      <th>cmp_impr</th>\n",
       "      <th>cmp_name</th>\n",
       "      <th>cmp_spent</th>\n",
       "      <th>user</th>\n",
       "    </tr>\n",
       "  </thead>\n",
       "  <tbody>\n",
       "    <tr>\n",
       "      <th>1</th>\n",
       "      <td>943590</td>\n",
       "      <td>24424</td>\n",
       "      <td>499998</td>\n",
       "      <td>BYU_20180520_20190729_45-60_B_EUR</td>\n",
       "      <td>6181</td>\n",
       "      <td>{\"username\": \"patty27\", \"name\": \"Wendy Martine...</td>\n",
       "    </tr>\n",
       "    <tr>\n",
       "      <th>2</th>\n",
       "      <td>828424</td>\n",
       "      <td>48902</td>\n",
       "      <td>500000</td>\n",
       "      <td>GRZ_20191221_20210401_25-35_B_USD</td>\n",
       "      <td>593648</td>\n",
       "      <td>{\"username\": \"patty27\", \"name\": \"Wendy Martine...</td>\n",
       "    </tr>\n",
       "    <tr>\n",
       "      <th>5</th>\n",
       "      <td>730116</td>\n",
       "      <td>8974</td>\n",
       "      <td>499997</td>\n",
       "      <td>KTR_20190201_20190611_20-40_B_GBP</td>\n",
       "      <td>324325</td>\n",
       "      <td>{\"username\": \"patty27\", \"name\": \"Wendy Martine...</td>\n",
       "    </tr>\n",
       "  </tbody>\n",
       "</table>\n",
       "</div>"
      ],
      "text/plain": [
       "   cmp_bgt  cmp_clicks  cmp_impr                           cmp_name  \\\n",
       "1   943590       24424    499998  BYU_20180520_20190729_45-60_B_EUR   \n",
       "2   828424       48902    500000  GRZ_20191221_20210401_25-35_B_USD   \n",
       "5   730116        8974    499997  KTR_20190201_20190611_20-40_B_GBP   \n",
       "\n",
       "   cmp_spent                                               user  \n",
       "1       6181  {\"username\": \"patty27\", \"name\": \"Wendy Martine...  \n",
       "2     593648  {\"username\": \"patty27\", \"name\": \"Wendy Martine...  \n",
       "5     324325  {\"username\": \"patty27\", \"name\": \"Wendy Martine...  "
      ]
     },
     "execution_count": 18,
     "metadata": {},
     "output_type": "execute_result"
    }
   ],
   "source": [
    "df.sort_index(by=['cmp_bgt'], ascending=False).head(3)"
   ]
  },
  {
   "cell_type": "code",
   "execution_count": 19,
   "metadata": {},
   "outputs": [
    {
     "data": {
      "text/html": [
       "<div>\n",
       "<style scoped>\n",
       "    .dataframe tbody tr th:only-of-type {\n",
       "        vertical-align: middle;\n",
       "    }\n",
       "\n",
       "    .dataframe tbody tr th {\n",
       "        vertical-align: top;\n",
       "    }\n",
       "\n",
       "    .dataframe thead th {\n",
       "        text-align: right;\n",
       "    }\n",
       "</style>\n",
       "<table border=\"1\" class=\"dataframe\">\n",
       "  <thead>\n",
       "    <tr style=\"text-align: right;\">\n",
       "      <th></th>\n",
       "      <th>Type</th>\n",
       "      <th>Start</th>\n",
       "      <th>End</th>\n",
       "      <th>Age</th>\n",
       "      <th>Gender</th>\n",
       "      <th>Currency</th>\n",
       "    </tr>\n",
       "  </thead>\n",
       "  <tbody>\n",
       "    <tr>\n",
       "      <th>0</th>\n",
       "      <td>AKX</td>\n",
       "      <td>2018-09-20</td>\n",
       "      <td>2018-10-10</td>\n",
       "      <td>40-50</td>\n",
       "      <td>M</td>\n",
       "      <td>GBP</td>\n",
       "    </tr>\n",
       "    <tr>\n",
       "      <th>1</th>\n",
       "      <td>BYU</td>\n",
       "      <td>2018-05-20</td>\n",
       "      <td>2019-07-29</td>\n",
       "      <td>45-60</td>\n",
       "      <td>B</td>\n",
       "      <td>EUR</td>\n",
       "    </tr>\n",
       "    <tr>\n",
       "      <th>2</th>\n",
       "      <td>GRZ</td>\n",
       "      <td>2019-12-21</td>\n",
       "      <td>2021-01-04</td>\n",
       "      <td>25-35</td>\n",
       "      <td>B</td>\n",
       "      <td>USD</td>\n",
       "    </tr>\n",
       "  </tbody>\n",
       "</table>\n",
       "</div>"
      ],
      "text/plain": [
       "  Type       Start         End    Age Gender Currency\n",
       "0  AKX  2018-09-20  2018-10-10  40-50      M      GBP\n",
       "1  BYU  2018-05-20  2019-07-29  45-60      B      EUR\n",
       "2  GRZ  2019-12-21  2021-01-04  25-35      B      USD"
      ]
     },
     "execution_count": 19,
     "metadata": {},
     "output_type": "execute_result"
    }
   ],
   "source": [
    "def unpack_campaign_name(name):\n",
    "    # very optimistic method, assumes data in campaign name\n",
    "    # is always in good state\n",
    "    type_, start, end, age, gender, currency = name.split('_')\n",
    "    start = parse(start).date\n",
    "    end = parse(end).date\n",
    "    return type_, start, end, age, gender, currency\n",
    "campaign_data = df['cmp_name'].apply(unpack_campaign_name)\n",
    "campaign_cols = [\n",
    "    'Type', 'Start', 'End', 'Age', 'Gender', 'Currency']\n",
    "campaign_df = DataFrame(\n",
    "    campaign_data.tolist(), columns=campaign_cols, index=df.index)\n",
    "campaign_df.head(3)"
   ]
  },
  {
   "cell_type": "code",
   "execution_count": 20,
   "metadata": {},
   "outputs": [],
   "source": [
    "df = df.join(campaign_df)"
   ]
  },
  {
   "cell_type": "code",
   "execution_count": 21,
   "metadata": {},
   "outputs": [
    {
     "data": {
      "text/html": [
       "<div>\n",
       "<style scoped>\n",
       "    .dataframe tbody tr th:only-of-type {\n",
       "        vertical-align: middle;\n",
       "    }\n",
       "\n",
       "    .dataframe tbody tr th {\n",
       "        vertical-align: top;\n",
       "    }\n",
       "\n",
       "    .dataframe thead th {\n",
       "        text-align: right;\n",
       "    }\n",
       "</style>\n",
       "<table border=\"1\" class=\"dataframe\">\n",
       "  <thead>\n",
       "    <tr style=\"text-align: right;\">\n",
       "      <th></th>\n",
       "      <th>cmp_name</th>\n",
       "      <th>Type</th>\n",
       "      <th>Start</th>\n",
       "      <th>End</th>\n",
       "      <th>Age</th>\n",
       "      <th>Gender</th>\n",
       "      <th>Currency</th>\n",
       "    </tr>\n",
       "  </thead>\n",
       "  <tbody>\n",
       "    <tr>\n",
       "      <th>0</th>\n",
       "      <td>AKX_20180920_20181010_40-50_M_GBP</td>\n",
       "      <td>AKX</td>\n",
       "      <td>2018-09-20</td>\n",
       "      <td>2018-10-10</td>\n",
       "      <td>40-50</td>\n",
       "      <td>M</td>\n",
       "      <td>GBP</td>\n",
       "    </tr>\n",
       "    <tr>\n",
       "      <th>1</th>\n",
       "      <td>BYU_20180520_20190729_45-60_B_EUR</td>\n",
       "      <td>BYU</td>\n",
       "      <td>2018-05-20</td>\n",
       "      <td>2019-07-29</td>\n",
       "      <td>45-60</td>\n",
       "      <td>B</td>\n",
       "      <td>EUR</td>\n",
       "    </tr>\n",
       "    <tr>\n",
       "      <th>2</th>\n",
       "      <td>GRZ_20191221_20210401_25-35_B_USD</td>\n",
       "      <td>GRZ</td>\n",
       "      <td>2019-12-21</td>\n",
       "      <td>2021-01-04</td>\n",
       "      <td>25-35</td>\n",
       "      <td>B</td>\n",
       "      <td>USD</td>\n",
       "    </tr>\n",
       "  </tbody>\n",
       "</table>\n",
       "</div>"
      ],
      "text/plain": [
       "                            cmp_name Type       Start         End    Age  \\\n",
       "0  AKX_20180920_20181010_40-50_M_GBP  AKX  2018-09-20  2018-10-10  40-50   \n",
       "1  BYU_20180520_20190729_45-60_B_EUR  BYU  2018-05-20  2019-07-29  45-60   \n",
       "2  GRZ_20191221_20210401_25-35_B_USD  GRZ  2019-12-21  2021-01-04  25-35   \n",
       "\n",
       "  Gender Currency  \n",
       "0      M      GBP  \n",
       "1      B      EUR  \n",
       "2      B      USD  "
      ]
     },
     "execution_count": 21,
     "metadata": {},
     "output_type": "execute_result"
    }
   ],
   "source": [
    "df[['cmp_name'] + campaign_cols].head(3)"
   ]
  },
  {
   "cell_type": "code",
   "execution_count": 23,
   "metadata": {},
   "outputs": [],
   "source": [
    "better_columns = [\n",
    "    'Budget', 'Clicks', 'Impressions',\n",
    "    'cmp_name', 'Spent', 'user',\n",
    "    'Type', 'Start', 'End',\n",
    "    'Target Age', 'Target Gender', 'Currency',\n",
    "    ]\n",
    "df.columns = better_columns"
   ]
  },
  {
   "cell_type": "code",
   "execution_count": 24,
   "metadata": {},
   "outputs": [],
   "source": [
    "def calculate_extra_columns(df):\n",
    "    # Click Through Rate\n",
    "    df['CTR'] = df['Clicks'] / df['Impressions']\n",
    "    # Cost Per Click\n",
    "    df['CPC'] = df['Spent'] / df['Clicks']\n",
    "    # Cost Per Impression\n",
    "    df['CPI'] = df['Spent'] / df['Impressions']\n",
    "calculate_extra_columns(df)"
   ]
  },
  {
   "cell_type": "code",
   "execution_count": 25,
   "metadata": {},
   "outputs": [
    {
     "data": {
      "text/html": [
       "<div>\n",
       "<style scoped>\n",
       "    .dataframe tbody tr th:only-of-type {\n",
       "        vertical-align: middle;\n",
       "    }\n",
       "\n",
       "    .dataframe tbody tr th {\n",
       "        vertical-align: top;\n",
       "    }\n",
       "\n",
       "    .dataframe thead th {\n",
       "        text-align: right;\n",
       "    }\n",
       "</style>\n",
       "<table border=\"1\" class=\"dataframe\">\n",
       "  <thead>\n",
       "    <tr style=\"text-align: right;\">\n",
       "      <th></th>\n",
       "      <th>Spent</th>\n",
       "      <th>Clicks</th>\n",
       "      <th>Impressions</th>\n",
       "      <th>CTR</th>\n",
       "      <th>CPC</th>\n",
       "      <th>CPI</th>\n",
       "    </tr>\n",
       "  </thead>\n",
       "  <tbody>\n",
       "    <tr>\n",
       "      <th>0</th>\n",
       "      <td>75668</td>\n",
       "      <td>7530</td>\n",
       "      <td>499996</td>\n",
       "      <td>0.015060</td>\n",
       "      <td>10.048871</td>\n",
       "      <td>0.151337</td>\n",
       "    </tr>\n",
       "    <tr>\n",
       "      <th>1</th>\n",
       "      <td>6181</td>\n",
       "      <td>24424</td>\n",
       "      <td>499998</td>\n",
       "      <td>0.048848</td>\n",
       "      <td>0.253071</td>\n",
       "      <td>0.012362</td>\n",
       "    </tr>\n",
       "    <tr>\n",
       "      <th>2</th>\n",
       "      <td>593648</td>\n",
       "      <td>48902</td>\n",
       "      <td>500000</td>\n",
       "      <td>0.097804</td>\n",
       "      <td>12.139544</td>\n",
       "      <td>1.187296</td>\n",
       "    </tr>\n",
       "  </tbody>\n",
       "</table>\n",
       "</div>"
      ],
      "text/plain": [
       "    Spent  Clicks  Impressions       CTR        CPC       CPI\n",
       "0   75668    7530       499996  0.015060  10.048871  0.151337\n",
       "1    6181   24424       499998  0.048848   0.253071  0.012362\n",
       "2  593648   48902       500000  0.097804  12.139544  1.187296"
      ]
     },
     "execution_count": 25,
     "metadata": {},
     "output_type": "execute_result"
    }
   ],
   "source": [
    "df[['Spent', 'Clicks', 'Impressions',\n",
    "    'CTR', 'CPC', 'CPI']].head(3)"
   ]
  },
  {
   "cell_type": "code",
   "execution_count": 26,
   "metadata": {},
   "outputs": [
    {
     "name": "stdout",
     "output_type": "stream",
     "text": [
      "CTR: 0.015060120481 0.015060120481\n",
      "CPC: 10.0488711819 10.0488711819\n",
      "CPI: 0.151337210698 0.151337210698\n"
     ]
    }
   ],
   "source": [
    "clicks = df['Clicks'][0]\n",
    "impressions = df['Impressions'][0]\n",
    "spent = df['Spent'][0]\n",
    "CTR = df['CTR'][0]\n",
    "CPC = df['CPC'][0]\n",
    "CPI = df['CPI'][0]\n",
    "print('CTR:', CTR, clicks / impressions)\n",
    "print('CPC:', CPC, spent / clicks)\n",
    "print('CPI:', CPI, spent / impressions)"
   ]
  },
  {
   "cell_type": "code",
   "execution_count": 27,
   "metadata": {},
   "outputs": [],
   "source": [
    "def get_day_of_the_week(day):\n",
    "    number_to_day = dict(enumerate(calendar.day_name, 1))\n",
    "    return number_to_day[day.isoweekday()]\n",
    "def get_duration(row):\n",
    "    return (row['End'] - row['Start']).days\n",
    "df['Day of Week'] = df['Start'].apply(get_day_of_the_week)\n",
    "df['Duration'] = df.apply(get_duration, axis=1)"
   ]
  },
  {
   "cell_type": "code",
   "execution_count": 28,
   "metadata": {},
   "outputs": [
    {
     "data": {
      "text/html": [
       "<div>\n",
       "<style scoped>\n",
       "    .dataframe tbody tr th:only-of-type {\n",
       "        vertical-align: middle;\n",
       "    }\n",
       "\n",
       "    .dataframe tbody tr th {\n",
       "        vertical-align: top;\n",
       "    }\n",
       "\n",
       "    .dataframe thead th {\n",
       "        text-align: right;\n",
       "    }\n",
       "</style>\n",
       "<table border=\"1\" class=\"dataframe\">\n",
       "  <thead>\n",
       "    <tr style=\"text-align: right;\">\n",
       "      <th></th>\n",
       "      <th>Start</th>\n",
       "      <th>End</th>\n",
       "      <th>Duration</th>\n",
       "      <th>Day of Week</th>\n",
       "    </tr>\n",
       "  </thead>\n",
       "  <tbody>\n",
       "    <tr>\n",
       "      <th>0</th>\n",
       "      <td>2018-09-20</td>\n",
       "      <td>2018-10-10</td>\n",
       "      <td>20</td>\n",
       "      <td>Thursday</td>\n",
       "    </tr>\n",
       "    <tr>\n",
       "      <th>1</th>\n",
       "      <td>2018-05-20</td>\n",
       "      <td>2019-07-29</td>\n",
       "      <td>435</td>\n",
       "      <td>Sunday</td>\n",
       "    </tr>\n",
       "    <tr>\n",
       "      <th>2</th>\n",
       "      <td>2019-12-21</td>\n",
       "      <td>2021-01-04</td>\n",
       "      <td>380</td>\n",
       "      <td>Saturday</td>\n",
       "    </tr>\n",
       "  </tbody>\n",
       "</table>\n",
       "</div>"
      ],
      "text/plain": [
       "        Start         End  Duration Day of Week\n",
       "0  2018-09-20  2018-10-10        20    Thursday\n",
       "1  2018-05-20  2019-07-29       435      Sunday\n",
       "2  2019-12-21  2021-01-04       380    Saturday"
      ]
     },
     "execution_count": 28,
     "metadata": {},
     "output_type": "execute_result"
    }
   ],
   "source": [
    "df[['Start', 'End', 'Duration', 'Day of Week']].head(3)"
   ]
  },
  {
   "cell_type": "code",
   "execution_count": 30,
   "metadata": {},
   "outputs": [],
   "source": [
    "final_columns = [\n",
    "    'Budget', 'Clicks', 'Impressions',\n",
    "    'cmp_name', 'Spent', 'user',\n",
    "    'Type', 'Start', 'End',\n",
    "    'Target Age', 'Target Gender', 'Currency',\n",
    "]\n",
    "df = df[final_columns]"
   ]
  },
  {
   "cell_type": "code",
   "execution_count": 31,
   "metadata": {},
   "outputs": [],
   "source": [
    "df.to_csv('df.csv')\n",
    "df.to_json('df.json')\n",
    "df.to_excel('df.xls')"
   ]
  },
  {
   "cell_type": "code",
   "execution_count": 33,
   "metadata": {},
   "outputs": [],
   "source": [
    "%matplotlib inline"
   ]
  },
  {
   "cell_type": "code",
   "execution_count": 34,
   "metadata": {},
   "outputs": [],
   "source": [
    "import pylab\n",
    "pylab.rcParams.update({'font.family' : 'serif'})"
   ]
  },
  {
   "cell_type": "code",
   "execution_count": 35,
   "metadata": {},
   "outputs": [
    {
     "data": {
      "text/html": [
       "<div>\n",
       "<style scoped>\n",
       "    .dataframe tbody tr th:only-of-type {\n",
       "        vertical-align: middle;\n",
       "    }\n",
       "\n",
       "    .dataframe tbody tr th {\n",
       "        vertical-align: top;\n",
       "    }\n",
       "\n",
       "    .dataframe thead th {\n",
       "        text-align: right;\n",
       "    }\n",
       "</style>\n",
       "<table border=\"1\" class=\"dataframe\">\n",
       "  <thead>\n",
       "    <tr style=\"text-align: right;\">\n",
       "      <th></th>\n",
       "      <th>Budget</th>\n",
       "      <th>Clicks</th>\n",
       "      <th>Impressions</th>\n",
       "      <th>Spent</th>\n",
       "    </tr>\n",
       "  </thead>\n",
       "  <tbody>\n",
       "    <tr>\n",
       "      <th>count</th>\n",
       "      <td>8.000000</td>\n",
       "      <td>8.000000</td>\n",
       "      <td>8.000000</td>\n",
       "      <td>8.000000</td>\n",
       "    </tr>\n",
       "    <tr>\n",
       "      <th>mean</th>\n",
       "      <td>542898.125000</td>\n",
       "      <td>26920.250000</td>\n",
       "      <td>499998.125000</td>\n",
       "      <td>257008.375000</td>\n",
       "    </tr>\n",
       "    <tr>\n",
       "      <th>std</th>\n",
       "      <td>298880.596619</td>\n",
       "      <td>25757.403777</td>\n",
       "      <td>1.457738</td>\n",
       "      <td>222254.834276</td>\n",
       "    </tr>\n",
       "    <tr>\n",
       "      <th>min</th>\n",
       "      <td>160298.000000</td>\n",
       "      <td>1600.000000</td>\n",
       "      <td>499996.000000</td>\n",
       "      <td>6181.000000</td>\n",
       "    </tr>\n",
       "    <tr>\n",
       "      <th>25%</th>\n",
       "      <td>275746.500000</td>\n",
       "      <td>8613.000000</td>\n",
       "      <td>499997.000000</td>\n",
       "      <td>71921.250000</td>\n",
       "    </tr>\n",
       "    <tr>\n",
       "      <th>50%</th>\n",
       "      <td>583670.500000</td>\n",
       "      <td>21447.000000</td>\n",
       "      <td>499998.000000</td>\n",
       "      <td>224181.500000</td>\n",
       "    </tr>\n",
       "    <tr>\n",
       "      <th>75%</th>\n",
       "      <td>754693.000000</td>\n",
       "      <td>31847.750000</td>\n",
       "      <td>499999.250000</td>\n",
       "      <td>380044.000000</td>\n",
       "    </tr>\n",
       "    <tr>\n",
       "      <th>max</th>\n",
       "      <td>943590.000000</td>\n",
       "      <td>79299.000000</td>\n",
       "      <td>500000.000000</td>\n",
       "      <td>593648.000000</td>\n",
       "    </tr>\n",
       "  </tbody>\n",
       "</table>\n",
       "</div>"
      ],
      "text/plain": [
       "              Budget        Clicks    Impressions          Spent\n",
       "count       8.000000      8.000000       8.000000       8.000000\n",
       "mean   542898.125000  26920.250000  499998.125000  257008.375000\n",
       "std    298880.596619  25757.403777       1.457738  222254.834276\n",
       "min    160298.000000   1600.000000  499996.000000    6181.000000\n",
       "25%    275746.500000   8613.000000  499997.000000   71921.250000\n",
       "50%    583670.500000  21447.000000  499998.000000  224181.500000\n",
       "75%    754693.000000  31847.750000  499999.250000  380044.000000\n",
       "max    943590.000000  79299.000000  500000.000000  593648.000000"
      ]
     },
     "execution_count": 35,
     "metadata": {},
     "output_type": "execute_result"
    }
   ],
   "source": [
    "df.describe()"
   ]
  },
  {
   "cell_type": "code",
   "execution_count": 36,
   "metadata": {},
   "outputs": [
    {
     "data": {
      "image/png": "[encoded data removed]",
      "text/plain": [
       "<Figure size 1152x432 with 4 Axes>"
      ]
     },
     "metadata": {
      "needs_background": "light"
     },
     "output_type": "display_data"
    }
   ],
   "source": [
    "df[['Budget', 'Spent', 'Clicks', 'Impressions']].hist(\n",
    "    bins=16, figsize=(16, 6));"
   ]
  },
  {
   "cell_type": "code",
   "execution_count": null,
   "metadata": {},
   "outputs": [],
   "source": []
  }
 ],
 "metadata": {
  "kernelspec": {
   "display_name": "Python 3",
   "language": "python",
   "name": "python3"
  },
  "language_info": {
   "codemirror_mode": {
    "name": "ipython",
    "version": 3
   },
   "file_extension": ".py",
   "mimetype": "text/x-python",
   "name": "python",
   "nbconvert_exporter": "python",
   "pygments_lexer": "ipython3",
   "version": "3.6.7"
  }
 },
 "nbformat": 4,
 "nbformat_minor": 2
}
