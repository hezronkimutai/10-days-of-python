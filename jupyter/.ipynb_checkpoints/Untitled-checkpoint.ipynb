{
 "cells": [
  {
   "cell_type": "code",
   "execution_count": 5,
   "metadata": {},
   "outputs": [],
   "source": [
    "from time import sleep, time\n",
    "from functools import wraps\n",
    "\n",
    "def measure(func):\n",
    "    @wraps(func)\n",
    "    def wrapper(*args, **kwargs):\n",
    "        t = time()\n",
    "        func(*args, **kwargs)\n",
    "        print(func.__name__, 'took:', time() - t)\n",
    "    return wrapper\n",
    "@measure\n",
    "def f(sleep_time=0.1):\n",
    "    \"\"\"I'm a cat. I love to sleep! \"\"\"\n",
    "    sleep(sleep_time)\n"
   ]
  },
  {
   "cell_type": "code",
   "execution_count": 9,
   "metadata": {},
   "outputs": [
    {
     "name": "stdout",
     "output_type": "stream",
     "text": [
      "f took: 0.30202412605285645\n",
      "f : None\n"
     ]
    }
   ],
   "source": [
    "f(sleep_time=0.3)\n",
    "print(f.__name__, ':', f.__doc__)"
   ]
  },
  {
   "cell_type": "code",
   "execution_count": 8,
   "metadata": {},
   "outputs": [
    {
     "name": "stdout",
     "output_type": "stream",
     "text": [
      "f : None\n"
     ]
    }
   ],
   "source": [
    "print(f.__name__, ':', f.__doc__)"
   ]
  },
  {
   "cell_type": "code",
   "execution_count": null,
   "metadata": {},
   "outputs": [],
   "source": []
  }
 ],
 "metadata": {
  "kernelspec": {
   "display_name": "Python 3",
   "language": "python",
   "name": "python3"
  },
  "language_info": {
   "codemirror_mode": {
    "name": "ipython",
    "version": 3
   },
   "file_extension": ".py",
   "mimetype": "text/x-python",
   "name": "python",
   "nbconvert_exporter": "python",
   "pygments_lexer": "ipython3",
   "version": "3.6.7"
  }
 },
 "nbformat": 4,
 "nbformat_minor": 2
}
