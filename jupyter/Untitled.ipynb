{
 "cells": [
  {
   "cell_type": "code",
   "execution_count": 17,
   "metadata": {},
   "outputs": [
    {
     "name": "stdout",
     "output_type": "stream",
     "text": [
      "f took: 0.30179452896118164\n",
      "f : I'm a cat. I love to sleep! \n"
     ]
    }
   ],
   "source": [
    "from time import sleep, time\n",
    "from functools import wraps\n",
    "\n",
    "def measure(func):\n",
    "    @wraps(func)\n",
    "    def wrapper(*args, **kwargs):\n",
    "        t = time()\n",
    "        func(*args, **kwargs)\n",
    "        print(func.__name__, 'took:', time() - t)\n",
    "    return wrapper\n",
    "@measure\n",
    "def f(sleep_time=0.1):\n",
    "    \"\"\"I'm a cat. I love to sleep! \"\"\"\n",
    "    sleep(sleep_time)\n",
    "f(sleep_time=0.3)\n",
    "print(f.__name__, ':', f.__doc__)\n"
   ]
  },
  {
   "cell_type": "code",
   "execution_count": 16,
   "metadata": {},
   "outputs": [
    {
     "name": "stdout",
     "output_type": "stream",
     "text": [
      "cube took: 6.4373016357421875e-06\n",
      "27\n",
      "cube took: 1.1444091796875e-05\n",
      "64\n"
     ]
    }
   ],
   "source": [
    "from time import sleep, time\n",
    "from functools import wraps\n",
    "def measure(func):\n",
    "    @wraps(func)\n",
    "    def wrapper(*args, **kwargs):\n",
    "        t = time()\n",
    "        result = func(*args, **kwargs)\n",
    "        print(func.__name__, 'took:', time() -t)\n",
    "        return result\n",
    "    return wrapper\n",
    "def max_result(func):\n",
    "    @wraps(func)\n",
    "    def wrapper(*args, **kwargs):\n",
    "        result = func(*args, **kwargs)\n",
    "        if result > 100:\n",
    "            print('Result is too big ({0}) . max allowed is 100.'.format(result))\n",
    "        return result\n",
    "    return wrapper\n",
    "@measure\n",
    "@max_result\n",
    "def cube(n):\n",
    "    return n**3\n",
    "print(cube(3))\n",
    "print(cube(4))"
   ]
  },
  {
   "cell_type": "code",
   "execution_count": 20,
   "metadata": {},
   "outputs": [
    {
     "name": "stdout",
     "output_type": "stream",
     "text": [
      "125\n",
      "Result is too big (121) . Max allowed is 100.\n",
      "121\n",
      "Result is too big (5000) . Max allowed is 1000.\n",
      "5000\n"
     ]
    }
   ],
   "source": [
    "#Decorator Factory\n",
    "from functools import wraps\n",
    "\n",
    "def max_result(threshold):\n",
    "    def decorator (func):\n",
    "        @wraps(func)\n",
    "        def wrapper(*args, **kwargs):\n",
    "            result = func(*args, **kwargs)\n",
    "            if result > threshold:\n",
    "                print (\n",
    "                'Result is too big ({0}) . Max allowed is {1}.'.format(result, threshold))\n",
    "            return result\n",
    "        return wrapper\n",
    "    return decorator\n",
    "\n",
    "@max_result(140)\n",
    "def cube(n):\n",
    "    return n ** 3\n",
    "@max_result(100)\n",
    "def square(n):\n",
    "    return n ** 2\n",
    "@max_result(1000)\n",
    "def multiply(a, b):\n",
    "    return a * b\n",
    "\n",
    "print(cube(5))\n",
    "print(square(11))\n",
    "print(multiply(50,100))"
   ]
  },
  {
   "cell_type": "code",
   "execution_count": null,
   "metadata": {},
   "outputs": [],
   "source": []
  }
 ],
 "metadata": {
  "kernelspec": {
   "display_name": "Python 3",
   "language": "python",
   "name": "python3"
  },
  "language_info": {
   "codemirror_mode": {
    "name": "ipython",
    "version": 3
   },
   "file_extension": ".py",
   "mimetype": "text/x-python",
   "name": "python",
   "nbconvert_exporter": "python",
   "pygments_lexer": "ipython3",
   "version": "3.6.7"
  }
 },
 "nbformat": 4,
 "nbformat_minor": 2
}
